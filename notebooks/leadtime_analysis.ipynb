{
 "cells": [
  {
   "cell_type": "code",
   "execution_count": null,
   "id": "44bfdc7d",
   "metadata": {},
   "outputs": [],
   "source": [
    "# === CONFIG + MODULE IMPORTS ===\n",
    "\n",
    "# Load environment variables from .env\n",
    "from dotenv import load_dotenv\n",
    "load_dotenv()\n",
    "\n",
    "# Add the modules directory to Python’s import path\n",
    "import sys\n",
    "import os\n",
    "sys.path.append(os.path.abspath(\"../modules\"))\n",
    "\n",
    "# Standard imports\n",
    "import pandas as pd\n",
    "\n",
    "# Import module functions\n",
    "from jira_api import get_last_n_months_issues\n",
    "from metrics_calculations import parse_issues_to_dataframe\n",
    "from visualizations import (\n",
    "    plot_lead_time_trend,\n",
    "    plot_lead_time_trend_exclude_extremes,\n",
    "    plot_lead_time_distribution,\n",
    "    plot_lead_time_heatmap_by_assignee\n",
    ")\n",
    "\n",
    "# Configurable toggles\n",
    "PROJECT_KEY = \"ITEUC\"        # Change to your desired Jira project\n",
    "THRESHOLD_DAYS = 750         # Lead time threshold for excluding outliers\n",
    "MONTHS_LOOKBACK = 6                  # Lookback window in months\n"
   ]
  },
  {
   "cell_type": "code",
   "execution_count": null,
   "id": "b6cf87fb",
   "metadata": {},
   "outputs": [],
   "source": [
    "# === FETCH & PARSE ISSUES ===\n",
    "issues = get_last_n_months_issues(PROJECT_KEY, months=MONTHS_LOOKBACK)\n",
    "df = parse_issues_to_dataframe(issues)\n",
    "\n",
    "df[\"Month\"] = df[\"resolved\"].dt.to_period(\"M\")\n",
    "\n",
    "print(f\"Issues retrieved: {len(df)}\")\n"
   ]
  },
  {
   "cell_type": "code",
   "execution_count": null,
   "id": "f783cc69",
   "metadata": {},
   "outputs": [],
   "source": [
    "# === Lead Time Trend (Excludes Extreme Outliers) ===\n",
    "plot_lead_time_trend_exclude_extremes(df, PROJECT_KEY, threshold_days=THRESHOLD_DAYS)\n"
   ]
  },
  {
   "cell_type": "code",
   "execution_count": null,
   "id": "79908b55-9f4c-4ef2-9a78-5a3f96ac734f",
   "metadata": {},
   "outputs": [],
   "source": [
    "# === Full Lead Time Trend (Raw) ===\n",
    "plot_lead_time_trend(df, PROJECT_KEY)\n"
   ]
  },
  {
   "cell_type": "code",
   "execution_count": null,
   "id": "90ee2a20-ec1d-4431-b7ba-d94ef9d9d8c8",
   "metadata": {},
   "outputs": [],
   "source": [
    "# === LEAD TIME DISTRIBUTION CHART ===\n",
    "plot_lead_time_distribution(df, PROJECT_KEY)\n"
   ]
  },
  {
   "cell_type": "code",
   "execution_count": null,
   "id": "78eb2029-4d85-4462-8017-e98574c573fa",
   "metadata": {},
   "outputs": [],
   "source": [
    "# === DEBUG SECTION (Optional, Commented Out) ===\n",
    "\n",
    "# Quick preview of structure\n",
    "# display(df.head())\n",
    "\n",
    "# See data types of parsed fields\n",
    "# print(df.dtypes)\n",
    "\n",
    "# Full issue table with parent summaries (optional deep dive)\n",
    "# import pandas as pd\n",
    "# pd.set_option(\"display.max_rows\", None)\n",
    "# display(df[[\"key\", \"summary\", \"parent_summary\", \"assignee\", \"created\", \"resolved\", \"lead_time_days\"]])\n"
   ]
  },
  {
   "cell_type": "code",
   "execution_count": null,
   "id": "e408386c",
   "metadata": {},
   "outputs": [],
   "source": [
    "# === LEAD TIME BY ASSIGNEE (Optional) ===\n",
    "# Uncomment the line below when needed (e.g., 1:1, analysis, etc.)\n",
    "\n",
    "#plot_lead_time_heatmap_by_assignee(df, PROJECT_KEY)\n",
    "\n"
   ]
  },
  {
   "cell_type": "code",
   "execution_count": null,
   "id": "33669cdc-d80c-4b2d-ad6a-682a2e5ca3ad",
   "metadata": {},
   "outputs": [],
   "source": []
  }
 ],
 "metadata": {
  "kernelspec": {
   "display_name": "Python 3 (ipykernel)",
   "language": "python",
   "name": "python3"
  },
  "language_info": {
   "codemirror_mode": {
    "name": "ipython",
    "version": 3
   },
   "file_extension": ".py",
   "mimetype": "text/x-python",
   "name": "python",
   "nbconvert_exporter": "python",
   "pygments_lexer": "ipython3",
   "version": "3.13.5"
  }
 },
 "nbformat": 4,
 "nbformat_minor": 5
}
