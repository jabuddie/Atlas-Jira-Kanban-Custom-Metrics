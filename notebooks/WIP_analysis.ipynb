{
 "cells": [
  {
   "cell_type": "code",
   "execution_count": null,
   "id": "5abfa8f1-9fb0-47d9-95d3-0381d999d298",
   "metadata": {},
   "outputs": [],
   "source": [
    "# === CONFIG + MODULE IMPORTS ===\n",
    "\n",
    "# Load environment variables\n",
    "from dotenv import load_dotenv\n",
    "load_dotenv()\n",
    "\n",
    "# Add the modules directory to Python’s import path\n",
    "import os\n",
    "import sys\n",
    "sys.path.append(os.path.abspath(\"../modules\"))\n",
    "\n",
    "# Standard imports\n",
    "import pandas as pd\n",
    "from datetime import datetime, timedelta, timezone\n",
    "\n",
    "# === MODULE FUNCTIONS ===\n",
    "\n",
    "# Jira API call to get WIP issues\n",
    "from jira_api import get_wip_issues\n",
    "\n",
    "# Metric calculations for WIP ranges\n",
    "from metrics_calculations import parse_wip_ranges\n",
    "\n",
    "# Visual output for charts and debug tables\n",
    "from visualizations import (\n",
    "    plot_daily_wip_time_series,\n",
    "    plot_monthly_average_wip,\n",
    "    show_daily_wip_table,\n",
    "    debug_daily_wip_table,\n",
    "    debug_monthly_wip_aggregation\n",
    ")\n",
    "\n",
    "# === CONFIGURABLE TOGGLES ===\n",
    "\n",
    "PROJECT_KEY = \"ITEUC\"              # Change to target Jira project\n",
    "DAYS_LOOKBACK = 30                 # For daily WIP line chart (e.g., past 30 days)\n",
    "MONTHS_LOOKBACK = 6                # For monthly average WIP view (e.g., past 6 months)\n"
   ]
  },
  {
   "cell_type": "code",
   "execution_count": null,
   "id": "28fef14e-2898-49dd-ac56-058b18438f82",
   "metadata": {},
   "outputs": [],
   "source": [
    "# # === FETCH & PARSE WIP ISSUES ===\n",
    "\n",
    "# Calculate full lookback window\n",
    "end_date = datetime.now(timezone.utc).replace(hour=23, minute=59, second=59, microsecond=999999)\n",
    "start_date = end_date - timedelta(days=MONTHS_LOOKBACK * 31)\n",
    "\n",
    "# Fetch issues (with changelog)\n",
    "issues = get_wip_issues(PROJECT_KEY, days=MONTHS_LOOKBACK * 31)\n",
    "\n",
    "# Parse changelog intervals (returns enriched records and missing metadata)\n",
    "wip_records, missing_details = parse_wip_ranges(issues, end_date)\n",
    "\n",
    "# Summary\n",
    "print(f\"Issues retrieved: {len(issues)}\")\n",
    "print(f\"WIP intervals parsed: {len(wip_records)}\")"
   ]
  },
  {
   "cell_type": "code",
   "execution_count": null,
   "id": "d44295b7-4685-4745-81be-8ce03a2f5ff5",
   "metadata": {},
   "outputs": [],
   "source": [
    "# === DAILY WIP LINE CHART ===\n",
    "\n",
    "# Main visualization of daily WIP counts (past N days)\n",
    "plot_daily_wip_time_series(wip_records, DAYS_LOOKBACK, PROJECT_KEY)\n",
    "\n",
    "# === Optional: Full WIP Table View ===\n",
    "# Uncomment to view daily WIP values in table format if annotations are crowded\n",
    "# show_daily_wip_table(wip_records, DAYS_LOOKBACK, PROJECT_KEY)\n"
   ]
  },
  {
   "cell_type": "code",
   "execution_count": null,
   "id": "27419218-b528-4126-aa8b-2f6c3d6a3025",
   "metadata": {},
   "outputs": [],
   "source": [
    "# === MONTHLY AVERAGE WIP CHART ===\n",
    "plot_monthly_average_wip(wip_records, MONTHS_LOOKBACK, PROJECT_KEY)"
   ]
  },
  {
   "cell_type": "code",
   "execution_count": null,
   "id": "ebf3326d-e062-415b-b80b-fd16d9e03e9b",
   "metadata": {},
   "outputs": [],
   "source": [
    "# === DEBUG: Daily WIP Table (Optional) ===\n",
    "\n",
    "# Uncomment to inspect raw daily WIP data used in the line chart\n",
    "# debug_daily_wip_table(wip_records, DAYS_LOOKBACK)\n",
    "\n",
    "# === DEBUG: Monthly WIP Average Aggregation (Optional) ===\n",
    "\n",
    "# Uncomment to see how each month's daily counts were computed\n",
    "# debug_monthly_wip_aggregation(wip_records, MONTHS_LOOKBACK)\n",
    "\n",
    "# === DEBUG: WIP Issues Active in a Specific Month ===\n",
    "\n",
    "# from metrics_calculations import get_issues_in_progress_in_month\n",
    "\n",
    "# target_month = \"2025-01\"  # Format: YYYY-MM\n",
    "# df_month_wip = get_issues_in_progress_in_month(wip_records, target_month)\n",
    "\n",
    "# print(f\"Issues In Progress During {target_month}: {len(df_month_wip)}\")\n",
    "# display(df_month_wip)\n"
   ]
  },
  {
   "cell_type": "code",
   "execution_count": null,
   "id": "7f0f338a-8556-4068-8250-9354611254b1",
   "metadata": {},
   "outputs": [],
   "source": []
  },
  {
   "cell_type": "code",
   "execution_count": null,
   "id": "6278b128-84ee-4e64-90e2-9bf82078e04a",
   "metadata": {},
   "outputs": [],
   "source": []
  }
 ],
 "metadata": {
  "kernelspec": {
   "display_name": "Python 3 (ipykernel)",
   "language": "python",
   "name": "python3"
  },
  "language_info": {
   "codemirror_mode": {
    "name": "ipython",
    "version": 3
   },
   "file_extension": ".py",
   "mimetype": "text/x-python",
   "name": "python",
   "nbconvert_exporter": "python",
   "pygments_lexer": "ipython3",
   "version": "3.13.5"
  }
 },
 "nbformat": 4,
 "nbformat_minor": 5
}
