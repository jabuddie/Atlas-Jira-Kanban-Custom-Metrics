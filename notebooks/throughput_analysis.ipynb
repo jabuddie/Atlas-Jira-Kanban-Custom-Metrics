{
 "cells": [
  {
   "cell_type": "code",
   "execution_count": null,
   "id": "e4918080",
   "metadata": {},
   "outputs": [],
   "source": [
    "# === CONFIG + MODULE IMPORTS ===\n",
    "from dotenv import load_dotenv\n",
    "load_dotenv()\n",
    "\n",
    "import sys\n",
    "sys.path.append(\"../modules\")\n",
    "\n",
    "from jira_api import get_last_n_months_issues\n",
    "from metrics_calculations import parse_issues_to_dataframe\n",
    "from visualizations import plot_throughput_bar, plot_combined_ktlo_chart\n",
    "from utils import report_outliers\n",
    "\n",
    "import pandas as pd\n",
    "import matplotlib.pyplot as plt\n",
    "\n",
    "PROJECT_KEY = \"ITSEC\"\n",
    "MONTHS_LOOKBACK = 6\n"
   ]
  },
  {
   "cell_type": "code",
   "execution_count": null,
   "id": "628c338e",
   "metadata": {},
   "outputs": [],
   "source": [
    "# === FETCH & PREPARE DATA ===\n",
    "issues = get_last_n_months_issues(PROJECT_KEY, months=MONTHS_LOOKBACK)\n",
    "df = parse_issues_to_dataframe(issues)\n",
    "df[\"Month\"] = df[\"resolved\"].dt.to_period(\"M\")\n",
    "\n",
    "print(f\"Issues retrieved: {len(df)}\")\n"
   ]
  },
  {
   "cell_type": "code",
   "execution_count": null,
   "id": "3145b6a1-ba72-4aa5-a373-04de5d459dfc",
   "metadata": {},
   "outputs": [],
   "source": [
    "# === CATEGORIZE KTLO VS NON-KTLO ===\n",
    "from utils import classify_by_issueflag\n",
    "\n",
    "df[\"Category\"] = df[\"customfield_10239\"].apply(classify_by_issueflag)\n"
   ]
  },
  {
   "cell_type": "code",
   "execution_count": null,
   "id": "b041afa9",
   "metadata": {},
   "outputs": [],
   "source": [
    "# === MONTHLY THROUGHPUT CHART ===\n",
    "plot_throughput_bar(df, PROJECT_KEY)\n"
   ]
  },
  {
   "cell_type": "code",
   "execution_count": null,
   "id": "3acf52d7",
   "metadata": {},
   "outputs": [],
   "source": [
    "# === COMBINED KTLO CHART WITH % LINE ===\n",
    "plot_combined_ktlo_chart(df, PROJECT_KEY, show_outliers=True)\n"
   ]
  },
  {
   "cell_type": "code",
   "execution_count": null,
   "id": "269a8a75",
   "metadata": {},
   "outputs": [],
   "source": [
    "# === KTLO SUMMARY TABLE ===\n",
    "from metrics_calculations import generate_ktlo_summary\n",
    "\n",
    "ktlo_summary = generate_ktlo_summary(df)\n",
    "print(\"KTLO Summary Table:\")\n",
    "print(ktlo_summary)"
   ]
  },
  {
   "cell_type": "code",
   "execution_count": null,
   "id": "7d16e5b5",
   "metadata": {},
   "outputs": [],
   "source": [
    "# === DEBUG: View All Processed Issues ===\n",
    "# Uncomment to see full issue data, including KTLO categorization\n",
    "\n",
    "# import pandas as pd\n",
    "# pd.set_option('display.max_rows', None)\n",
    "# display(df[[\"key\", \"summary\", \"resolved\", \"lead_time_days\", \"assignee\", \"Category\"]])\n"
   ]
  },
  {
   "cell_type": "code",
   "execution_count": null,
   "id": "b3b3ef30-fca4-4ee3-aef8-2ca506fab3bb",
   "metadata": {},
   "outputs": [],
   "source": []
  }
 ],
 "metadata": {
  "kernelspec": {
   "display_name": "Python 3 (ipykernel)",
   "language": "python",
   "name": "python3"
  },
  "language_info": {
   "codemirror_mode": {
    "name": "ipython",
    "version": 3
   },
   "file_extension": ".py",
   "mimetype": "text/x-python",
   "name": "python",
   "nbconvert_exporter": "python",
   "pygments_lexer": "ipython3",
   "version": "3.13.5"
  }
 },
 "nbformat": 4,
 "nbformat_minor": 5
}
